{
 "cells": [
  {
   "cell_type": "markdown",
   "id": "99e11f38",
   "metadata": {},
   "source": [
    "# My Jupyter Notebook on IBM Watson Studio"
   ]
  },
  {
   "cell_type": "markdown",
   "id": "1a6b539b",
   "metadata": {},
   "source": [
    "**David**"
   ]
  },
  {
   "cell_type": "markdown",
   "id": "627b37e6",
   "metadata": {},
   "source": [
    "Data Scientist at Spotify"
   ]
  },
  {
   "cell_type": "markdown",
   "id": "5b035218",
   "metadata": {},
   "source": [
    "*I am interested in Data Science, because I like to extract insights from data. Furthermore, I like to find out about facts, others know nothing about*"
   ]
  },
  {
   "cell_type": "markdown",
   "id": "2ed1249e",
   "metadata": {},
   "source": [
    "### This code adds up 1 and 1"
   ]
  },
  {
   "cell_type": "code",
   "execution_count": 1,
   "id": "226e61e7",
   "metadata": {},
   "outputs": [
    {
     "data": {
      "text/plain": [
       "2"
      ]
     },
     "execution_count": 1,
     "metadata": {},
     "output_type": "execute_result"
    }
   ],
   "source": [
    "1+1"
   ]
  },
  {
   "cell_type": "markdown",
   "id": "f801e072",
   "metadata": {},
   "source": [
    ">- This is a link and a Bullet point. Both are indented\n",
    "https://www.google.com/search?q=link&rlz=1C1VDKB_deDE948DE948&oq=link&aqs=chrome..69i57j46i39i199i465j46i67i199i465j0i67j46i67j0i512j46i512j69i60.1093j1j7&sourceid=chrome&ie=UTF-8"
   ]
  },
  {
   "cell_type": "code",
   "execution_count": null,
   "id": "e32367e3",
   "metadata": {},
   "outputs": [],
   "source": []
  }
 ],
 "metadata": {
  "kernelspec": {
   "display_name": "Python 3 (ipykernel)",
   "language": "python",
   "name": "python3"
  },
  "language_info": {
   "codemirror_mode": {
    "name": "ipython",
    "version": 3
   },
   "file_extension": ".py",
   "mimetype": "text/x-python",
   "name": "python",
   "nbconvert_exporter": "python",
   "pygments_lexer": "ipython3",
   "version": "3.9.12"
  }
 },
 "nbformat": 4,
 "nbformat_minor": 5
}
